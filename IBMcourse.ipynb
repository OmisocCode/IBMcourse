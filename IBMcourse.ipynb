{
 "cells": [
  {
   "cell_type": "markdown",
   "metadata": {},
   "source": [
    "# Compito finale del corso \"open source tools for data science\""
   ]
  },
  {
   "cell_type": "markdown",
   "metadata": {},
   "source": [
    "### Introduction\n",
    "\n",
    "The final task of the course is compile this jupiter and publish it in a GitHub online repository.\n",
    "Infact the course is on the open source tools and Jupiter and GitHub are two of the best open source tools!"
   ]
  },
  {
   "cell_type": "markdown",
   "metadata": {},
   "source": [
    "### The data science language\n",
    "\n",
    "Data science is very important in this world so there is not only a language! Now i can make a little list:\n",
    "- Python\n",
    "- R\n",
    "- SQL \"is only for relational database\"\n",
    "- Scala\n",
    "- Java\n",
    "- C++\n",
    "- Julia"
   ]
  },
  {
   "cell_type": "markdown",
   "metadata": {},
   "source": [
    "The main librarys of Python for data science are:\n",
    "- Skylern\n",
    "- Pandas\n",
    "- Numpy\n",
    "- Tensorflow (Keras)\n",
    "- PyTorch\n",
    "- Mathplotlib (for data visualization)\n",
    "- Pyplot (for data visualization)"
   ]
  },
  {
   "cell_type": "markdown",
   "metadata": {},
   "source": [
    "Python is a very simple language. Let sea some code for simple operation:\n",
    "- code: print(3+2) -> output: 5\n",
    "- code: print(3*2) -> output: 6\n",
    "- code: print(3**2) -> output: 9"
   ]
  },
  {
   "cell_type": "code",
   "execution_count": 3,
   "metadata": {},
   "outputs": [
    {
     "name": "stdout",
     "output_type": "stream",
     "text": [
      "The sum of 2 and 3 is: 5\n",
      "We can also se the moltiplication: 6\n"
     ]
    }
   ],
   "source": [
    "x=2\n",
    "y=3\n",
    "print(f'The sum of {x} and {y} is: {x+y}')\n",
    "print(f'We can also se the moltiplication: {x*y}')"
   ]
  },
  {
   "cell_type": "code",
   "execution_count": 4,
   "metadata": {},
   "outputs": [
    {
     "name": "stdout",
     "output_type": "stream",
     "text": [
      "1230 minutes are: 20 hours and 30 minutes\n"
     ]
    }
   ],
   "source": [
    "s=\"\"\" We can do also more complex operation whit few line of code: for example we can convert minutes in hours\"\"\"\n",
    "\n",
    "min=1230\n",
    "h= min // 60\n",
    "min_in_h= min % 60\n",
    "print(f\"{min} minutes are: {h} hours and {min_in_h} minutes\")"
   ]
  },
  {
   "cell_type": "markdown",
   "metadata": {},
   "source": [
    "## Objectives:\n",
    "The only objectives for me is learn more about the word of data science."
   ]
  },
  {
   "cell_type": "markdown",
   "metadata": {},
   "source": [
    "### Author: Cosimo Martini"
   ]
  }
 ],
 "metadata": {
  "language_info": {
   "name": "python"
  }
 },
 "nbformat": 4,
 "nbformat_minor": 2
}
